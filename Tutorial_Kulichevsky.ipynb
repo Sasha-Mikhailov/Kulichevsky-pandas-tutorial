{
 "cells": [
  {
   "cell_type": "code",
   "execution_count": 79,
   "metadata": {},
   "outputs": [],
   "source": [
    "import pandas as pd\n",
    "from datetime import datetime\n",
    "import numpy as np\n",
    "\n",
    "import seaborn as sns"
   ]
  },
  {
   "cell_type": "code",
   "execution_count": 3,
   "metadata": {},
   "outputs": [],
   "source": [
    "df_customers = pd.read_csv(\"kulichevsky_customers.csv\")\n",
    "df_orders = pd.read_csv(\"kulichevsky_orders.csv\")"
   ]
  },
  {
   "cell_type": "code",
   "execution_count": 17,
   "metadata": {},
   "outputs": [
    {
     "data": {
      "text/html": [
       "<div>\n",
       "<style scoped>\n",
       "    .dataframe tbody tr th:only-of-type {\n",
       "        vertical-align: middle;\n",
       "    }\n",
       "\n",
       "    .dataframe tbody tr th {\n",
       "        vertical-align: top;\n",
       "    }\n",
       "\n",
       "    .dataframe thead th {\n",
       "        text-align: right;\n",
       "    }\n",
       "</style>\n",
       "<table border=\"1\" class=\"dataframe\">\n",
       "  <thead>\n",
       "    <tr style=\"text-align: right;\">\n",
       "      <th></th>\n",
       "      <th>id</th>\n",
       "      <th>order_date</th>\n",
       "      <th>ship_mode</th>\n",
       "      <th>customer_id</th>\n",
       "      <th>sales</th>\n",
       "    </tr>\n",
       "  </thead>\n",
       "  <tbody>\n",
       "    <tr>\n",
       "      <th>0</th>\n",
       "      <td>100006</td>\n",
       "      <td>2014-09-07</td>\n",
       "      <td>Standard</td>\n",
       "      <td>DK-13375</td>\n",
       "      <td>377.970</td>\n",
       "    </tr>\n",
       "    <tr>\n",
       "      <th>1</th>\n",
       "      <td>100090</td>\n",
       "      <td>2014-07-08</td>\n",
       "      <td>Standard</td>\n",
       "      <td>EB-13705</td>\n",
       "      <td>699.192</td>\n",
       "    </tr>\n",
       "    <tr>\n",
       "      <th>2</th>\n",
       "      <td>100293</td>\n",
       "      <td>2014-03-14</td>\n",
       "      <td>Standard</td>\n",
       "      <td>NF-18475</td>\n",
       "      <td>91.056</td>\n",
       "    </tr>\n",
       "    <tr>\n",
       "      <th>3</th>\n",
       "      <td>100328</td>\n",
       "      <td>2014-01-28</td>\n",
       "      <td>Standard</td>\n",
       "      <td>JC-15340</td>\n",
       "      <td>3.928</td>\n",
       "    </tr>\n",
       "    <tr>\n",
       "      <th>4</th>\n",
       "      <td>100363</td>\n",
       "      <td>2014-04-08</td>\n",
       "      <td>Standard</td>\n",
       "      <td>JM-15655</td>\n",
       "      <td>21.376</td>\n",
       "    </tr>\n",
       "  </tbody>\n",
       "</table>\n",
       "</div>"
      ],
      "text/plain": [
       "       id  order_date ship_mode customer_id    sales\n",
       "0  100006  2014-09-07  Standard    DK-13375  377.970\n",
       "1  100090  2014-07-08  Standard    EB-13705  699.192\n",
       "2  100293  2014-03-14  Standard    NF-18475   91.056\n",
       "3  100328  2014-01-28  Standard    JC-15340    3.928\n",
       "4  100363  2014-04-08  Standard    JM-15655   21.376"
      ]
     },
     "execution_count": 17,
     "metadata": {},
     "output_type": "execute_result"
    }
   ],
   "source": [
    "df_orders.head()"
   ]
  },
  {
   "cell_type": "code",
   "execution_count": 18,
   "metadata": {},
   "outputs": [
    {
     "name": "stdout",
     "output_type": "stream",
     "text": [
      "<class 'pandas.core.frame.DataFrame'>\n",
      "RangeIndex: 5009 entries, 0 to 5008\n",
      "Data columns (total 5 columns):\n",
      "id             5009 non-null int64\n",
      "order_date     5009 non-null object\n",
      "ship_mode      5009 non-null object\n",
      "customer_id    5009 non-null object\n",
      "sales          5009 non-null float64\n",
      "dtypes: float64(1), int64(1), object(3)\n",
      "memory usage: 195.7+ KB\n"
     ]
    }
   ],
   "source": [
    "df_orders.info()"
   ]
  },
  {
   "cell_type": "code",
   "execution_count": 20,
   "metadata": {},
   "outputs": [
    {
     "name": "stdout",
     "output_type": "stream",
     "text": [
      "<class 'pandas.core.frame.DataFrame'>\n",
      "RangeIndex: 5009 entries, 0 to 5008\n",
      "Data columns (total 5 columns):\n",
      "id             5009 non-null int64\n",
      "order_date     5009 non-null datetime64[ns]\n",
      "ship_mode      5009 non-null object\n",
      "customer_id    5009 non-null object\n",
      "sales          5009 non-null float64\n",
      "dtypes: datetime64[ns](1), float64(1), int64(1), object(2)\n",
      "memory usage: 195.7+ KB\n"
     ]
    }
   ],
   "source": [
    "df_orders[\"order_date\"] = pd.to_datetime(df_orders[\"order_date\"])"
   ]
  },
  {
   "cell_type": "markdown",
   "metadata": {},
   "source": [
    "## 1. Сколько заказов, отправлено первым классом за последние 5 лет?\n",
    "\n",
    "787"
   ]
  },
  {
   "cell_type": "code",
   "execution_count": 30,
   "metadata": {},
   "outputs": [
    {
     "data": {
      "text/plain": [
       "787"
      ]
     },
     "execution_count": 30,
     "metadata": {},
     "output_type": "execute_result"
    }
   ],
   "source": [
    "df_orders[(df_orders[\"ship_mode\"] == \"First\") & \n",
    "          (df_orders[\"order_date\"].dt.year >= 2014)][\"id\"].count()"
   ]
  },
  {
   "cell_type": "markdown",
   "metadata": {},
   "source": [
    "## 2. Сколько в базе клиентов из Калифорнии?\n",
    "161"
   ]
  },
  {
   "cell_type": "code",
   "execution_count": 55,
   "metadata": {},
   "outputs": [
    {
     "data": {
      "text/plain": [
       "161"
      ]
     },
     "execution_count": 55,
     "metadata": {},
     "output_type": "execute_result"
    }
   ],
   "source": [
    "df_customers[df_customers['state'] == \"California\"][\"id\"].count()\n"
   ]
  },
  {
   "cell_type": "markdown",
   "metadata": {},
   "source": [
    "## 3. Сколько заказов они сделали?\n",
    "\n",
    "1006"
   ]
  },
  {
   "cell_type": "code",
   "execution_count": 65,
   "metadata": {},
   "outputs": [
    {
     "data": {
      "text/plain": [
       "1006"
      ]
     },
     "execution_count": 65,
     "metadata": {},
     "output_type": "execute_result"
    }
   ],
   "source": [
    "new_df = df_orders.merge(df_customers, \n",
    "                         how = \"left\", \n",
    "                         left_on = \"customer_id\",\n",
    "                         right_on = \"id\")\n",
    "\n",
    "new_df[new_df['state'] == \"California\"][\"id_x\"].count()"
   ]
  },
  {
   "cell_type": "markdown",
   "metadata": {},
   "source": [
    "## 4. Постройте сводную таблицу средних чеков по всем штатам за каждый год."
   ]
  },
  {
   "cell_type": "code",
   "execution_count": 66,
   "metadata": {},
   "outputs": [
    {
     "data": {
      "text/html": [
       "<div>\n",
       "<style scoped>\n",
       "    .dataframe tbody tr th:only-of-type {\n",
       "        vertical-align: middle;\n",
       "    }\n",
       "\n",
       "    .dataframe tbody tr th {\n",
       "        vertical-align: top;\n",
       "    }\n",
       "\n",
       "    .dataframe thead th {\n",
       "        text-align: right;\n",
       "    }\n",
       "</style>\n",
       "<table border=\"1\" class=\"dataframe\">\n",
       "  <thead>\n",
       "    <tr style=\"text-align: right;\">\n",
       "      <th></th>\n",
       "      <th>id_x</th>\n",
       "      <th>order_date</th>\n",
       "      <th>ship_mode</th>\n",
       "      <th>customer_id</th>\n",
       "      <th>sales</th>\n",
       "      <th>id_y</th>\n",
       "      <th>name</th>\n",
       "      <th>segment</th>\n",
       "      <th>state</th>\n",
       "      <th>city</th>\n",
       "    </tr>\n",
       "  </thead>\n",
       "  <tbody>\n",
       "    <tr>\n",
       "      <th>0</th>\n",
       "      <td>100006</td>\n",
       "      <td>2014-09-07</td>\n",
       "      <td>Standard</td>\n",
       "      <td>DK-13375</td>\n",
       "      <td>377.970</td>\n",
       "      <td>DK-13375</td>\n",
       "      <td>Dennis Kane</td>\n",
       "      <td>Consumer</td>\n",
       "      <td>Ohio</td>\n",
       "      <td>Marion</td>\n",
       "    </tr>\n",
       "    <tr>\n",
       "      <th>1</th>\n",
       "      <td>100090</td>\n",
       "      <td>2014-07-08</td>\n",
       "      <td>Standard</td>\n",
       "      <td>EB-13705</td>\n",
       "      <td>699.192</td>\n",
       "      <td>EB-13705</td>\n",
       "      <td>Ed Braxton</td>\n",
       "      <td>Corporate</td>\n",
       "      <td>Ohio</td>\n",
       "      <td>Akron</td>\n",
       "    </tr>\n",
       "    <tr>\n",
       "      <th>2</th>\n",
       "      <td>100293</td>\n",
       "      <td>2014-03-14</td>\n",
       "      <td>Standard</td>\n",
       "      <td>NF-18475</td>\n",
       "      <td>91.056</td>\n",
       "      <td>NF-18475</td>\n",
       "      <td>Neil Franzosisch</td>\n",
       "      <td>Home Office</td>\n",
       "      <td>Illinois</td>\n",
       "      <td>Rockford</td>\n",
       "    </tr>\n",
       "    <tr>\n",
       "      <th>3</th>\n",
       "      <td>100328</td>\n",
       "      <td>2014-01-28</td>\n",
       "      <td>Standard</td>\n",
       "      <td>JC-15340</td>\n",
       "      <td>3.928</td>\n",
       "      <td>JC-15340</td>\n",
       "      <td>Jasper Cacioppo</td>\n",
       "      <td>Consumer</td>\n",
       "      <td>California</td>\n",
       "      <td>Los Angeles</td>\n",
       "    </tr>\n",
       "    <tr>\n",
       "      <th>4</th>\n",
       "      <td>100363</td>\n",
       "      <td>2014-04-08</td>\n",
       "      <td>Standard</td>\n",
       "      <td>JM-15655</td>\n",
       "      <td>21.376</td>\n",
       "      <td>JM-15655</td>\n",
       "      <td>Jim Mitchum</td>\n",
       "      <td>Corporate</td>\n",
       "      <td>New Jersey</td>\n",
       "      <td>Bridgeton</td>\n",
       "    </tr>\n",
       "  </tbody>\n",
       "</table>\n",
       "</div>"
      ],
      "text/plain": [
       "     id_x order_date ship_mode customer_id    sales      id_y  \\\n",
       "0  100006 2014-09-07  Standard    DK-13375  377.970  DK-13375   \n",
       "1  100090 2014-07-08  Standard    EB-13705  699.192  EB-13705   \n",
       "2  100293 2014-03-14  Standard    NF-18475   91.056  NF-18475   \n",
       "3  100328 2014-01-28  Standard    JC-15340    3.928  JC-15340   \n",
       "4  100363 2014-04-08  Standard    JM-15655   21.376  JM-15655   \n",
       "\n",
       "               name      segment       state         city  \n",
       "0       Dennis Kane     Consumer        Ohio       Marion  \n",
       "1        Ed Braxton    Corporate        Ohio        Akron  \n",
       "2  Neil Franzosisch  Home Office    Illinois     Rockford  \n",
       "3   Jasper Cacioppo     Consumer  California  Los Angeles  \n",
       "4       Jim Mitchum    Corporate  New Jersey    Bridgeton  "
      ]
     },
     "execution_count": 66,
     "metadata": {},
     "output_type": "execute_result"
    }
   ],
   "source": [
    "new_df.head()"
   ]
  },
  {
   "cell_type": "code",
   "execution_count": 133,
   "metadata": {},
   "outputs": [
    {
     "data": {
      "text/html": [
       "<style  type=\"text/css\" >\n",
       "    #T_4b5afff6_a2ee_11e9_854c_784f4383c922row0_col28 {\n",
       "            background-color:  yellow;\n",
       "        }    #T_4b5afff6_a2ee_11e9_854c_784f4383c922row1_col20 {\n",
       "            background-color:  yellow;\n",
       "        }    #T_4b5afff6_a2ee_11e9_854c_784f4383c922row2_col17 {\n",
       "            background-color:  yellow;\n",
       "        }    #T_4b5afff6_a2ee_11e9_854c_784f4383c922row3_col13 {\n",
       "            background-color:  yellow;\n",
       "        }</style><table id=\"T_4b5afff6_a2ee_11e9_854c_784f4383c922\" ><thead>    <tr>        <th class=\"blank level0\" ></th>        <th class=\"col_heading level0 col0\" colspan=41>sales</th>    </tr>    <tr>        <th class=\"index_name level1\" >state</th>        <th class=\"col_heading level1 col0\" >Alabama</th>        <th class=\"col_heading level1 col1\" >Arizona</th>        <th class=\"col_heading level1 col2\" >Arkansas</th>        <th class=\"col_heading level1 col3\" >California</th>        <th class=\"col_heading level1 col4\" >Colorado</th>        <th class=\"col_heading level1 col5\" >Connecticut</th>        <th class=\"col_heading level1 col6\" >Delaware</th>        <th class=\"col_heading level1 col7\" >District of Columbia</th>        <th class=\"col_heading level1 col8\" >Florida</th>        <th class=\"col_heading level1 col9\" >Georgia</th>        <th class=\"col_heading level1 col10\" >Illinois</th>        <th class=\"col_heading level1 col11\" >Indiana</th>        <th class=\"col_heading level1 col12\" >Iowa</th>        <th class=\"col_heading level1 col13\" >Kansas</th>        <th class=\"col_heading level1 col14\" >Kentucky</th>        <th class=\"col_heading level1 col15\" >Louisiana</th>        <th class=\"col_heading level1 col16\" >Maryland</th>        <th class=\"col_heading level1 col17\" >Massachusetts</th>        <th class=\"col_heading level1 col18\" >Michigan</th>        <th class=\"col_heading level1 col19\" >Minnesota</th>        <th class=\"col_heading level1 col20\" >Mississippi</th>        <th class=\"col_heading level1 col21\" >Missouri</th>        <th class=\"col_heading level1 col22\" >Nebraska</th>        <th class=\"col_heading level1 col23\" >Nevada</th>        <th class=\"col_heading level1 col24\" >New Hampshire</th>        <th class=\"col_heading level1 col25\" >New Jersey</th>        <th class=\"col_heading level1 col26\" >New Mexico</th>        <th class=\"col_heading level1 col27\" >New York</th>        <th class=\"col_heading level1 col28\" >North Carolina</th>        <th class=\"col_heading level1 col29\" >Ohio</th>        <th class=\"col_heading level1 col30\" >Oklahoma</th>        <th class=\"col_heading level1 col31\" >Oregon</th>        <th class=\"col_heading level1 col32\" >Pennsylvania</th>        <th class=\"col_heading level1 col33\" >Rhode Island</th>        <th class=\"col_heading level1 col34\" >South Dakota</th>        <th class=\"col_heading level1 col35\" >Tennessee</th>        <th class=\"col_heading level1 col36\" >Texas</th>        <th class=\"col_heading level1 col37\" >Utah</th>        <th class=\"col_heading level1 col38\" >Virginia</th>        <th class=\"col_heading level1 col39\" >Washington</th>        <th class=\"col_heading level1 col40\" >Wisconsin</th>    </tr>    <tr>        <th class=\"index_name level0\" >order_date</th>        <th class=\"blank\" ></th>        <th class=\"blank\" ></th>        <th class=\"blank\" ></th>        <th class=\"blank\" ></th>        <th class=\"blank\" ></th>        <th class=\"blank\" ></th>        <th class=\"blank\" ></th>        <th class=\"blank\" ></th>        <th class=\"blank\" ></th>        <th class=\"blank\" ></th>        <th class=\"blank\" ></th>        <th class=\"blank\" ></th>        <th class=\"blank\" ></th>        <th class=\"blank\" ></th>        <th class=\"blank\" ></th>        <th class=\"blank\" ></th>        <th class=\"blank\" ></th>        <th class=\"blank\" ></th>        <th class=\"blank\" ></th>        <th class=\"blank\" ></th>        <th class=\"blank\" ></th>        <th class=\"blank\" ></th>        <th class=\"blank\" ></th>        <th class=\"blank\" ></th>        <th class=\"blank\" ></th>        <th class=\"blank\" ></th>        <th class=\"blank\" ></th>        <th class=\"blank\" ></th>        <th class=\"blank\" ></th>        <th class=\"blank\" ></th>        <th class=\"blank\" ></th>        <th class=\"blank\" ></th>        <th class=\"blank\" ></th>        <th class=\"blank\" ></th>        <th class=\"blank\" ></th>        <th class=\"blank\" ></th>        <th class=\"blank\" ></th>        <th class=\"blank\" ></th>        <th class=\"blank\" ></th>        <th class=\"blank\" ></th>        <th class=\"blank\" ></th>    </tr></thead><tbody>\n",
       "                <tr>\n",
       "                        <th id=\"T_4b5afff6_a2ee_11e9_854c_784f4383c922level0_row0\" class=\"row_heading level0 row0\" >2014</th>\n",
       "                        <td id=\"T_4b5afff6_a2ee_11e9_854c_784f4383c922row0_col0\" class=\"data row0 col0\" >426</td>\n",
       "                        <td id=\"T_4b5afff6_a2ee_11e9_854c_784f4383c922row0_col1\" class=\"data row0 col1\" >475</td>\n",
       "                        <td id=\"T_4b5afff6_a2ee_11e9_854c_784f4383c922row0_col2\" class=\"data row0 col2\" >1098</td>\n",
       "                        <td id=\"T_4b5afff6_a2ee_11e9_854c_784f4383c922row0_col3\" class=\"data row0 col3\" >564</td>\n",
       "                        <td id=\"T_4b5afff6_a2ee_11e9_854c_784f4383c922row0_col4\" class=\"data row0 col4\" >351</td>\n",
       "                        <td id=\"T_4b5afff6_a2ee_11e9_854c_784f4383c922row0_col5\" class=\"data row0 col5\" >955</td>\n",
       "                        <td id=\"T_4b5afff6_a2ee_11e9_854c_784f4383c922row0_col6\" class=\"data row0 col6\" >342</td>\n",
       "                        <td id=\"T_4b5afff6_a2ee_11e9_854c_784f4383c922row0_col7\" class=\"data row0 col7\" >267</td>\n",
       "                        <td id=\"T_4b5afff6_a2ee_11e9_854c_784f4383c922row0_col8\" class=\"data row0 col8\" >446</td>\n",
       "                        <td id=\"T_4b5afff6_a2ee_11e9_854c_784f4383c922row0_col9\" class=\"data row0 col9\" >463</td>\n",
       "                        <td id=\"T_4b5afff6_a2ee_11e9_854c_784f4383c922row0_col10\" class=\"data row0 col10\" >466</td>\n",
       "                        <td id=\"T_4b5afff6_a2ee_11e9_854c_784f4383c922row0_col11\" class=\"data row0 col11\" >351</td>\n",
       "                        <td id=\"T_4b5afff6_a2ee_11e9_854c_784f4383c922row0_col12\" class=\"data row0 col12\" >505</td>\n",
       "                        <td id=\"T_4b5afff6_a2ee_11e9_854c_784f4383c922row0_col13\" class=\"data row0 col13\" >nan</td>\n",
       "                        <td id=\"T_4b5afff6_a2ee_11e9_854c_784f4383c922row0_col14\" class=\"data row0 col14\" >439</td>\n",
       "                        <td id=\"T_4b5afff6_a2ee_11e9_854c_784f4383c922row0_col15\" class=\"data row0 col15\" >478</td>\n",
       "                        <td id=\"T_4b5afff6_a2ee_11e9_854c_784f4383c922row0_col16\" class=\"data row0 col16\" >12</td>\n",
       "                        <td id=\"T_4b5afff6_a2ee_11e9_854c_784f4383c922row0_col17\" class=\"data row0 col17\" >632</td>\n",
       "                        <td id=\"T_4b5afff6_a2ee_11e9_854c_784f4383c922row0_col18\" class=\"data row0 col18\" >444</td>\n",
       "                        <td id=\"T_4b5afff6_a2ee_11e9_854c_784f4383c922row0_col19\" class=\"data row0 col19\" >522</td>\n",
       "                        <td id=\"T_4b5afff6_a2ee_11e9_854c_784f4383c922row0_col20\" class=\"data row0 col20\" >673</td>\n",
       "                        <td id=\"T_4b5afff6_a2ee_11e9_854c_784f4383c922row0_col21\" class=\"data row0 col21\" >276</td>\n",
       "                        <td id=\"T_4b5afff6_a2ee_11e9_854c_784f4383c922row0_col22\" class=\"data row0 col22\" >465</td>\n",
       "                        <td id=\"T_4b5afff6_a2ee_11e9_854c_784f4383c922row0_col23\" class=\"data row0 col23\" >23</td>\n",
       "                        <td id=\"T_4b5afff6_a2ee_11e9_854c_784f4383c922row0_col24\" class=\"data row0 col24\" >170</td>\n",
       "                        <td id=\"T_4b5afff6_a2ee_11e9_854c_784f4383c922row0_col25\" class=\"data row0 col25\" >239</td>\n",
       "                        <td id=\"T_4b5afff6_a2ee_11e9_854c_784f4383c922row0_col26\" class=\"data row0 col26\" >341</td>\n",
       "                        <td id=\"T_4b5afff6_a2ee_11e9_854c_784f4383c922row0_col27\" class=\"data row0 col27\" >436</td>\n",
       "                        <td id=\"T_4b5afff6_a2ee_11e9_854c_784f4383c922row0_col28\" class=\"data row0 col28\" >1100</td>\n",
       "                        <td id=\"T_4b5afff6_a2ee_11e9_854c_784f4383c922row0_col29\" class=\"data row0 col29\" >299</td>\n",
       "                        <td id=\"T_4b5afff6_a2ee_11e9_854c_784f4383c922row0_col30\" class=\"data row0 col30\" >63</td>\n",
       "                        <td id=\"T_4b5afff6_a2ee_11e9_854c_784f4383c922row0_col31\" class=\"data row0 col31\" >774</td>\n",
       "                        <td id=\"T_4b5afff6_a2ee_11e9_854c_784f4383c922row0_col32\" class=\"data row0 col32\" >293</td>\n",
       "                        <td id=\"T_4b5afff6_a2ee_11e9_854c_784f4383c922row0_col33\" class=\"data row0 col33\" >87</td>\n",
       "                        <td id=\"T_4b5afff6_a2ee_11e9_854c_784f4383c922row0_col34\" class=\"data row0 col34\" >21</td>\n",
       "                        <td id=\"T_4b5afff6_a2ee_11e9_854c_784f4383c922row0_col35\" class=\"data row0 col35\" >527</td>\n",
       "                        <td id=\"T_4b5afff6_a2ee_11e9_854c_784f4383c922row0_col36\" class=\"data row0 col36\" >584</td>\n",
       "                        <td id=\"T_4b5afff6_a2ee_11e9_854c_784f4383c922row0_col37\" class=\"data row0 col37\" >293</td>\n",
       "                        <td id=\"T_4b5afff6_a2ee_11e9_854c_784f4383c922row0_col38\" class=\"data row0 col38\" >1048</td>\n",
       "                        <td id=\"T_4b5afff6_a2ee_11e9_854c_784f4383c922row0_col39\" class=\"data row0 col39\" >601</td>\n",
       "                        <td id=\"T_4b5afff6_a2ee_11e9_854c_784f4383c922row0_col40\" class=\"data row0 col40\" >318</td>\n",
       "            </tr>\n",
       "            <tr>\n",
       "                        <th id=\"T_4b5afff6_a2ee_11e9_854c_784f4383c922level0_row1\" class=\"row_heading level0 row1\" >2015</th>\n",
       "                        <td id=\"T_4b5afff6_a2ee_11e9_854c_784f4383c922row1_col0\" class=\"data row1 col0\" >501</td>\n",
       "                        <td id=\"T_4b5afff6_a2ee_11e9_854c_784f4383c922row1_col1\" class=\"data row1 col1\" >703</td>\n",
       "                        <td id=\"T_4b5afff6_a2ee_11e9_854c_784f4383c922row1_col2\" class=\"data row1 col2\" >56</td>\n",
       "                        <td id=\"T_4b5afff6_a2ee_11e9_854c_784f4383c922row1_col3\" class=\"data row1 col3\" >404</td>\n",
       "                        <td id=\"T_4b5afff6_a2ee_11e9_854c_784f4383c922row1_col4\" class=\"data row1 col4\" >433</td>\n",
       "                        <td id=\"T_4b5afff6_a2ee_11e9_854c_784f4383c922row1_col5\" class=\"data row1 col5\" >184</td>\n",
       "                        <td id=\"T_4b5afff6_a2ee_11e9_854c_784f4383c922row1_col6\" class=\"data row1 col6\" >401</td>\n",
       "                        <td id=\"T_4b5afff6_a2ee_11e9_854c_784f4383c922row1_col7\" class=\"data row1 col7\" >nan</td>\n",
       "                        <td id=\"T_4b5afff6_a2ee_11e9_854c_784f4383c922row1_col8\" class=\"data row1 col8\" >333</td>\n",
       "                        <td id=\"T_4b5afff6_a2ee_11e9_854c_784f4383c922row1_col9\" class=\"data row1 col9\" >560</td>\n",
       "                        <td id=\"T_4b5afff6_a2ee_11e9_854c_784f4383c922row1_col10\" class=\"data row1 col10\" >353</td>\n",
       "                        <td id=\"T_4b5afff6_a2ee_11e9_854c_784f4383c922row1_col11\" class=\"data row1 col11\" >199</td>\n",
       "                        <td id=\"T_4b5afff6_a2ee_11e9_854c_784f4383c922row1_col12\" class=\"data row1 col12\" >1332</td>\n",
       "                        <td id=\"T_4b5afff6_a2ee_11e9_854c_784f4383c922row1_col13\" class=\"data row1 col13\" >237</td>\n",
       "                        <td id=\"T_4b5afff6_a2ee_11e9_854c_784f4383c922row1_col14\" class=\"data row1 col14\" >477</td>\n",
       "                        <td id=\"T_4b5afff6_a2ee_11e9_854c_784f4383c922row1_col15\" class=\"data row1 col15\" >364</td>\n",
       "                        <td id=\"T_4b5afff6_a2ee_11e9_854c_784f4383c922row1_col16\" class=\"data row1 col16\" >342</td>\n",
       "                        <td id=\"T_4b5afff6_a2ee_11e9_854c_784f4383c922row1_col17\" class=\"data row1 col17\" >286</td>\n",
       "                        <td id=\"T_4b5afff6_a2ee_11e9_854c_784f4383c922row1_col18\" class=\"data row1 col18\" >827</td>\n",
       "                        <td id=\"T_4b5afff6_a2ee_11e9_854c_784f4383c922row1_col19\" class=\"data row1 col19\" >585</td>\n",
       "                        <td id=\"T_4b5afff6_a2ee_11e9_854c_784f4383c922row1_col20\" class=\"data row1 col20\" >2172</td>\n",
       "                        <td id=\"T_4b5afff6_a2ee_11e9_854c_784f4383c922row1_col21\" class=\"data row1 col21\" >491</td>\n",
       "                        <td id=\"T_4b5afff6_a2ee_11e9_854c_784f4383c922row1_col22\" class=\"data row1 col22\" >261</td>\n",
       "                        <td id=\"T_4b5afff6_a2ee_11e9_854c_784f4383c922row1_col23\" class=\"data row1 col23\" >57</td>\n",
       "                        <td id=\"T_4b5afff6_a2ee_11e9_854c_784f4383c922row1_col24\" class=\"data row1 col24\" >1421</td>\n",
       "                        <td id=\"T_4b5afff6_a2ee_11e9_854c_784f4383c922row1_col25\" class=\"data row1 col25\" >269</td>\n",
       "                        <td id=\"T_4b5afff6_a2ee_11e9_854c_784f4383c922row1_col26\" class=\"data row1 col26\" >181</td>\n",
       "                        <td id=\"T_4b5afff6_a2ee_11e9_854c_784f4383c922row1_col27\" class=\"data row1 col27\" >442</td>\n",
       "                        <td id=\"T_4b5afff6_a2ee_11e9_854c_784f4383c922row1_col28\" class=\"data row1 col28\" >280</td>\n",
       "                        <td id=\"T_4b5afff6_a2ee_11e9_854c_784f4383c922row1_col29\" class=\"data row1 col29\" >319</td>\n",
       "                        <td id=\"T_4b5afff6_a2ee_11e9_854c_784f4383c922row1_col30\" class=\"data row1 col30\" >539</td>\n",
       "                        <td id=\"T_4b5afff6_a2ee_11e9_854c_784f4383c922row1_col31\" class=\"data row1 col31\" >977</td>\n",
       "                        <td id=\"T_4b5afff6_a2ee_11e9_854c_784f4383c922row1_col32\" class=\"data row1 col32\" >557</td>\n",
       "                        <td id=\"T_4b5afff6_a2ee_11e9_854c_784f4383c922row1_col33\" class=\"data row1 col33\" >273</td>\n",
       "                        <td id=\"T_4b5afff6_a2ee_11e9_854c_784f4383c922row1_col34\" class=\"data row1 col34\" >264</td>\n",
       "                        <td id=\"T_4b5afff6_a2ee_11e9_854c_784f4383c922row1_col35\" class=\"data row1 col35\" >637</td>\n",
       "                        <td id=\"T_4b5afff6_a2ee_11e9_854c_784f4383c922row1_col36\" class=\"data row1 col36\" >344</td>\n",
       "                        <td id=\"T_4b5afff6_a2ee_11e9_854c_784f4383c922row1_col37\" class=\"data row1 col37\" >408</td>\n",
       "                        <td id=\"T_4b5afff6_a2ee_11e9_854c_784f4383c922row1_col38\" class=\"data row1 col38\" >492</td>\n",
       "                        <td id=\"T_4b5afff6_a2ee_11e9_854c_784f4383c922row1_col39\" class=\"data row1 col39\" >492</td>\n",
       "                        <td id=\"T_4b5afff6_a2ee_11e9_854c_784f4383c922row1_col40\" class=\"data row1 col40\" >831</td>\n",
       "            </tr>\n",
       "            <tr>\n",
       "                        <th id=\"T_4b5afff6_a2ee_11e9_854c_784f4383c922level0_row2\" class=\"row_heading level0 row2\" >2016</th>\n",
       "                        <td id=\"T_4b5afff6_a2ee_11e9_854c_784f4383c922row2_col0\" class=\"data row2 col0\" >854</td>\n",
       "                        <td id=\"T_4b5afff6_a2ee_11e9_854c_784f4383c922row2_col1\" class=\"data row2 col1\" >699</td>\n",
       "                        <td id=\"T_4b5afff6_a2ee_11e9_854c_784f4383c922row2_col2\" class=\"data row2 col2\" >103</td>\n",
       "                        <td id=\"T_4b5afff6_a2ee_11e9_854c_784f4383c922row2_col3\" class=\"data row2 col3\" >426</td>\n",
       "                        <td id=\"T_4b5afff6_a2ee_11e9_854c_784f4383c922row2_col4\" class=\"data row2 col4\" >541</td>\n",
       "                        <td id=\"T_4b5afff6_a2ee_11e9_854c_784f4383c922row2_col5\" class=\"data row2 col5\" >393</td>\n",
       "                        <td id=\"T_4b5afff6_a2ee_11e9_854c_784f4383c922row2_col6\" class=\"data row2 col6\" >305</td>\n",
       "                        <td id=\"T_4b5afff6_a2ee_11e9_854c_784f4383c922row2_col7\" class=\"data row2 col7\" >466</td>\n",
       "                        <td id=\"T_4b5afff6_a2ee_11e9_854c_784f4383c922row2_col8\" class=\"data row2 col8\" >318</td>\n",
       "                        <td id=\"T_4b5afff6_a2ee_11e9_854c_784f4383c922row2_col9\" class=\"data row2 col9\" >522</td>\n",
       "                        <td id=\"T_4b5afff6_a2ee_11e9_854c_784f4383c922row2_col10\" class=\"data row2 col10\" >408</td>\n",
       "                        <td id=\"T_4b5afff6_a2ee_11e9_854c_784f4383c922row2_col11\" class=\"data row2 col11\" >258</td>\n",
       "                        <td id=\"T_4b5afff6_a2ee_11e9_854c_784f4383c922row2_col12\" class=\"data row2 col12\" >529</td>\n",
       "                        <td id=\"T_4b5afff6_a2ee_11e9_854c_784f4383c922row2_col13\" class=\"data row2 col13\" >91</td>\n",
       "                        <td id=\"T_4b5afff6_a2ee_11e9_854c_784f4383c922row2_col14\" class=\"data row2 col14\" >264</td>\n",
       "                        <td id=\"T_4b5afff6_a2ee_11e9_854c_784f4383c922row2_col15\" class=\"data row2 col15\" >253</td>\n",
       "                        <td id=\"T_4b5afff6_a2ee_11e9_854c_784f4383c922row2_col16\" class=\"data row2 col16\" >64</td>\n",
       "                        <td id=\"T_4b5afff6_a2ee_11e9_854c_784f4383c922row2_col17\" class=\"data row2 col17\" >899</td>\n",
       "                        <td id=\"T_4b5afff6_a2ee_11e9_854c_784f4383c922row2_col18\" class=\"data row2 col18\" >522</td>\n",
       "                        <td id=\"T_4b5afff6_a2ee_11e9_854c_784f4383c922row2_col19\" class=\"data row2 col19\" >553</td>\n",
       "                        <td id=\"T_4b5afff6_a2ee_11e9_854c_784f4383c922row2_col20\" class=\"data row2 col20\" >436</td>\n",
       "                        <td id=\"T_4b5afff6_a2ee_11e9_854c_784f4383c922row2_col21\" class=\"data row2 col21\" >470</td>\n",
       "                        <td id=\"T_4b5afff6_a2ee_11e9_854c_784f4383c922row2_col22\" class=\"data row2 col22\" >120</td>\n",
       "                        <td id=\"T_4b5afff6_a2ee_11e9_854c_784f4383c922row2_col23\" class=\"data row2 col23\" >59</td>\n",
       "                        <td id=\"T_4b5afff6_a2ee_11e9_854c_784f4383c922row2_col24\" class=\"data row2 col24\" >899</td>\n",
       "                        <td id=\"T_4b5afff6_a2ee_11e9_854c_784f4383c922row2_col25\" class=\"data row2 col25\" >277</td>\n",
       "                        <td id=\"T_4b5afff6_a2ee_11e9_854c_784f4383c922row2_col26\" class=\"data row2 col26\" >372</td>\n",
       "                        <td id=\"T_4b5afff6_a2ee_11e9_854c_784f4383c922row2_col27\" class=\"data row2 col27\" >509</td>\n",
       "                        <td id=\"T_4b5afff6_a2ee_11e9_854c_784f4383c922row2_col28\" class=\"data row2 col28\" >770</td>\n",
       "                        <td id=\"T_4b5afff6_a2ee_11e9_854c_784f4383c922row2_col29\" class=\"data row2 col29\" >313</td>\n",
       "                        <td id=\"T_4b5afff6_a2ee_11e9_854c_784f4383c922row2_col30\" class=\"data row2 col30\" >362</td>\n",
       "                        <td id=\"T_4b5afff6_a2ee_11e9_854c_784f4383c922row2_col31\" class=\"data row2 col31\" >850</td>\n",
       "                        <td id=\"T_4b5afff6_a2ee_11e9_854c_784f4383c922row2_col32\" class=\"data row2 col32\" >605</td>\n",
       "                        <td id=\"T_4b5afff6_a2ee_11e9_854c_784f4383c922row2_col33\" class=\"data row2 col33\" >659</td>\n",
       "                        <td id=\"T_4b5afff6_a2ee_11e9_854c_784f4383c922row2_col34\" class=\"data row2 col34\" >15</td>\n",
       "                        <td id=\"T_4b5afff6_a2ee_11e9_854c_784f4383c922row2_col35\" class=\"data row2 col35\" >201</td>\n",
       "                        <td id=\"T_4b5afff6_a2ee_11e9_854c_784f4383c922row2_col36\" class=\"data row2 col36\" >343</td>\n",
       "                        <td id=\"T_4b5afff6_a2ee_11e9_854c_784f4383c922row2_col37\" class=\"data row2 col37\" >627</td>\n",
       "                        <td id=\"T_4b5afff6_a2ee_11e9_854c_784f4383c922row2_col38\" class=\"data row2 col38\" >466</td>\n",
       "                        <td id=\"T_4b5afff6_a2ee_11e9_854c_784f4383c922row2_col39\" class=\"data row2 col39\" >661</td>\n",
       "                        <td id=\"T_4b5afff6_a2ee_11e9_854c_784f4383c922row2_col40\" class=\"data row2 col40\" >444</td>\n",
       "            </tr>\n",
       "            <tr>\n",
       "                        <th id=\"T_4b5afff6_a2ee_11e9_854c_784f4383c922level0_row3\" class=\"row_heading level0 row3\" >2017</th>\n",
       "                        <td id=\"T_4b5afff6_a2ee_11e9_854c_784f4383c922row3_col0\" class=\"data row3 col0\" >418</td>\n",
       "                        <td id=\"T_4b5afff6_a2ee_11e9_854c_784f4383c922row3_col1\" class=\"data row3 col1\" >536</td>\n",
       "                        <td id=\"T_4b5afff6_a2ee_11e9_854c_784f4383c922row3_col2\" class=\"data row3 col2\" >215</td>\n",
       "                        <td id=\"T_4b5afff6_a2ee_11e9_854c_784f4383c922row3_col3\" class=\"data row3 col3\" >422</td>\n",
       "                        <td id=\"T_4b5afff6_a2ee_11e9_854c_784f4383c922row3_col4\" class=\"data row3 col4\" >366</td>\n",
       "                        <td id=\"T_4b5afff6_a2ee_11e9_854c_784f4383c922row3_col5\" class=\"data row3 col5\" >479</td>\n",
       "                        <td id=\"T_4b5afff6_a2ee_11e9_854c_784f4383c922row3_col6\" class=\"data row3 col6\" >895</td>\n",
       "                        <td id=\"T_4b5afff6_a2ee_11e9_854c_784f4383c922row3_col7\" class=\"data row3 col7\" >nan</td>\n",
       "                        <td id=\"T_4b5afff6_a2ee_11e9_854c_784f4383c922row3_col8\" class=\"data row3 col8\" >318</td>\n",
       "                        <td id=\"T_4b5afff6_a2ee_11e9_854c_784f4383c922row3_col9\" class=\"data row3 col9\" >391</td>\n",
       "                        <td id=\"T_4b5afff6_a2ee_11e9_854c_784f4383c922row3_col10\" class=\"data row3 col10\" >315</td>\n",
       "                        <td id=\"T_4b5afff6_a2ee_11e9_854c_784f4383c922row3_col11\" class=\"data row3 col11\" >278</td>\n",
       "                        <td id=\"T_4b5afff6_a2ee_11e9_854c_784f4383c922row3_col12\" class=\"data row3 col12\" >544</td>\n",
       "                        <td id=\"T_4b5afff6_a2ee_11e9_854c_784f4383c922row3_col13\" class=\"data row3 col13\" >980</td>\n",
       "                        <td id=\"T_4b5afff6_a2ee_11e9_854c_784f4383c922row3_col14\" class=\"data row3 col14\" >370</td>\n",
       "                        <td id=\"T_4b5afff6_a2ee_11e9_854c_784f4383c922row3_col15\" class=\"data row3 col15\" >415</td>\n",
       "                        <td id=\"T_4b5afff6_a2ee_11e9_854c_784f4383c922row3_col16\" class=\"data row3 col16\" >78</td>\n",
       "                        <td id=\"T_4b5afff6_a2ee_11e9_854c_784f4383c922row3_col17\" class=\"data row3 col17\" >318</td>\n",
       "                        <td id=\"T_4b5afff6_a2ee_11e9_854c_784f4383c922row3_col18\" class=\"data row3 col18\" >383</td>\n",
       "                        <td id=\"T_4b5afff6_a2ee_11e9_854c_784f4383c922row3_col19\" class=\"data row3 col19\" >535</td>\n",
       "                        <td id=\"T_4b5afff6_a2ee_11e9_854c_784f4383c922row3_col20\" class=\"data row3 col20\" >482</td>\n",
       "                        <td id=\"T_4b5afff6_a2ee_11e9_854c_784f4383c922row3_col21\" class=\"data row3 col21\" >453</td>\n",
       "                        <td id=\"T_4b5afff6_a2ee_11e9_854c_784f4383c922row3_col22\" class=\"data row3 col22\" >857</td>\n",
       "                        <td id=\"T_4b5afff6_a2ee_11e9_854c_784f4383c922row3_col23\" class=\"data row3 col23\" >487</td>\n",
       "                        <td id=\"T_4b5afff6_a2ee_11e9_854c_784f4383c922row3_col24\" class=\"data row3 col24\" >246</td>\n",
       "                        <td id=\"T_4b5afff6_a2ee_11e9_854c_784f4383c922row3_col25\" class=\"data row3 col25\" >453</td>\n",
       "                        <td id=\"T_4b5afff6_a2ee_11e9_854c_784f4383c922row3_col26\" class=\"data row3 col26\" >277</td>\n",
       "                        <td id=\"T_4b5afff6_a2ee_11e9_854c_784f4383c922row3_col27\" class=\"data row3 col27\" >583</td>\n",
       "                        <td id=\"T_4b5afff6_a2ee_11e9_854c_784f4383c922row3_col28\" class=\"data row3 col28\" >579</td>\n",
       "                        <td id=\"T_4b5afff6_a2ee_11e9_854c_784f4383c922row3_col29\" class=\"data row3 col29\" >250</td>\n",
       "                        <td id=\"T_4b5afff6_a2ee_11e9_854c_784f4383c922row3_col30\" class=\"data row3 col30\" >690</td>\n",
       "                        <td id=\"T_4b5afff6_a2ee_11e9_854c_784f4383c922row3_col31\" class=\"data row3 col31\" >290</td>\n",
       "                        <td id=\"T_4b5afff6_a2ee_11e9_854c_784f4383c922row3_col32\" class=\"data row3 col32\" >392</td>\n",
       "                        <td id=\"T_4b5afff6_a2ee_11e9_854c_784f4383c922row3_col33\" class=\"data row3 col33\" >222</td>\n",
       "                        <td id=\"T_4b5afff6_a2ee_11e9_854c_784f4383c922row3_col34\" class=\"data row3 col34\" >587</td>\n",
       "                        <td id=\"T_4b5afff6_a2ee_11e9_854c_784f4383c922row3_col35\" class=\"data row3 col35\" >324</td>\n",
       "                        <td id=\"T_4b5afff6_a2ee_11e9_854c_784f4383c922row3_col36\" class=\"data row3 col36\" >421</td>\n",
       "                        <td id=\"T_4b5afff6_a2ee_11e9_854c_784f4383c922row3_col37\" class=\"data row3 col37\" >467</td>\n",
       "                        <td id=\"T_4b5afff6_a2ee_11e9_854c_784f4383c922row3_col38\" class=\"data row3 col38\" >268</td>\n",
       "                        <td id=\"T_4b5afff6_a2ee_11e9_854c_784f4383c922row3_col39\" class=\"data row3 col39\" >576</td>\n",
       "                        <td id=\"T_4b5afff6_a2ee_11e9_854c_784f4383c922row3_col40\" class=\"data row3 col40\" >797</td>\n",
       "            </tr>\n",
       "    </tbody></table>"
      ],
      "text/plain": [
       "<pandas.io.formats.style.Styler at 0x1a18762e10>"
      ]
     },
     "execution_count": 133,
     "metadata": {},
     "output_type": "execute_result"
    }
   ],
   "source": [
    "cm = sns.light_palette(\"green\", as_cmap=True)\n",
    "\n",
    "df_pivot = new_df.pivot_table(values= [\"sales\"], \n",
    "                   index= new_df[\"order_date\"].dt.year, \n",
    "                   columns = new_df[\"state\"], \n",
    "                   aggfunc = \"mean\")\n",
    "                   \n",
    "\n",
    "df_pivot.style.format(\"{:.0f}\")\\\n",
    "        .highlight_max(axis=1)"
   ]
  },
  {
   "cell_type": "code",
   "execution_count": null,
   "metadata": {},
   "outputs": [],
   "source": []
  },
  {
   "cell_type": "code",
   "execution_count": 137,
   "metadata": {},
   "outputs": [
    {
     "data": {
      "text/plain": [
       "order_date\n",
       "2014    North Carolina\n",
       "2015       Mississippi\n",
       "2016     Massachusetts\n",
       "2017            Kansas\n",
       "dtype: object"
      ]
     },
     "execution_count": 137,
     "metadata": {},
     "output_type": "execute_result"
    }
   ],
   "source": [
    "max_mean_sales_by_year = df_pivot.apply(lambda x: x.idxmax(axis = 1)[1], axis = 1)\n",
    "\n",
    "max_mean_sales_by_year.head()"
   ]
  },
  {
   "cell_type": "code",
   "execution_count": null,
   "metadata": {},
   "outputs": [],
   "source": []
  }
 ],
 "metadata": {
  "kernelspec": {
   "display_name": "Python 3",
   "language": "python",
   "name": "python3"
  },
  "language_info": {
   "codemirror_mode": {
    "name": "ipython",
    "version": 3
   },
   "file_extension": ".py",
   "mimetype": "text/x-python",
   "name": "python",
   "nbconvert_exporter": "python",
   "pygments_lexer": "ipython3",
   "version": "3.7.3"
  }
 },
 "nbformat": 4,
 "nbformat_minor": 2
}
